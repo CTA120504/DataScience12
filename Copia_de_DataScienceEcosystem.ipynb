{
  "nbformat": 4,
  "nbformat_minor": 0,
  "metadata": {
    "colab": {
      "provenance": [],
      "toc_visible": true
    },
    "kernelspec": {
      "name": "python3",
      "display_name": "Python 3"
    },
    "language_info": {
      "name": "python"
    }
  },
  "cells": [
    {
      "cell_type": "markdown",
      "source": [
        "# Data Science Tools and Logistic\n",
        "\n",
        "The development towards a more digital future\n",
        "\n",
        "\n",
        "\n",
        "\n"
      ],
      "metadata": {
        "id": "wVkcOBC-IYWN"
      }
    },
    {
      "cell_type": "markdown",
      "source": [
        "In this notebook, Data Science Tools and Logistics are summarized."
      ],
      "metadata": {
        "id": "8Wqn1aGJIyNd"
      }
    },
    {
      "cell_type": "markdown",
      "source": [
        "**Objectives:**\n",
        "\n",
        "\n",
        "*   List popular languages for Data Science\n",
        "*   List commonly used libraries in Data Science\n",
        "*   List development environment open source tools used in data science.\n",
        "*   Use of arithmetic expressions in Python\n",
        "\n"
      ],
      "metadata": {
        "id": "toYVwh0gQ4j_"
      }
    },
    {
      "cell_type": "markdown",
      "source": [
        "Some of the popular languages that Data Scientists use are:"
      ],
      "metadata": {
        "id": "6X69i-zZMlhj"
      }
    },
    {
      "cell_type": "markdown",
      "source": [
        "\n",
        "\n",
        "1.   R\n",
        "2.   Python\n",
        "3.   SQL\n",
        "\n",
        "\n"
      ],
      "metadata": {
        "id": "0JMXgtq3MpqP"
      }
    },
    {
      "cell_type": "markdown",
      "source": [
        "Some of the commonly used libraries used by Data Scientists include:"
      ],
      "metadata": {
        "id": "dMwv_4vGNfZJ"
      }
    },
    {
      "cell_type": "markdown",
      "source": [
        "\n",
        "\n",
        "1.   NumPy\n",
        "2.   Pandas\n",
        "3.   Matplotlib\n",
        "\n"
      ],
      "metadata": {
        "id": "I52R86OeNkHj"
      }
    },
    {
      "cell_type": "markdown",
      "source": [
        "Data Science Tools |\n",
        "-------------------|\n",
        "Jupyter Notebook     |\n",
        "Google Collab       |\n",
        "VS Code con Python|"
      ],
      "metadata": {
        "id": "lnG4Hle0N8m1"
      }
    },
    {
      "cell_type": "markdown",
      "source": [
        "### Below are a few examples of evaluating arithmetic expressions in Python\n"
      ],
      "metadata": {
        "id": "UXBcc8KyPIu0"
      }
    },
    {
      "cell_type": "code",
      "source": [
        "#This a simple arithmetic expression to mutiply then add integers\n",
        "(3*5)+5"
      ],
      "metadata": {
        "colab": {
          "base_uri": "https://localhost:8080/"
        },
        "id": "k3RzCfRjP7MY",
        "outputId": "8ce7f1f0-5f54-4c9b-9632-51aae831a8d6"
      },
      "execution_count": null,
      "outputs": [
        {
          "output_type": "execute_result",
          "data": {
            "text/plain": [
              "20"
            ]
          },
          "metadata": {},
          "execution_count": 1
        }
      ]
    },
    {
      "cell_type": "code",
      "source": [
        "#This will convert 200 minutes to hours by diving by 60.\n",
        "print(\"Amount of minutes: 200\")\n",
        "print(\"Amount of hours: \", 200/60)"
      ],
      "metadata": {
        "colab": {
          "base_uri": "https://localhost:8080/"
        },
        "id": "UM3B8t2zQYPz",
        "outputId": "ee2c970f-9fa8-484a-e8eb-e256af617090"
      },
      "execution_count": null,
      "outputs": [
        {
          "output_type": "stream",
          "name": "stdout",
          "text": [
            "Amount of minutes: 200\n",
            "Amount of hours:  3.3333333333333335\n"
          ]
        }
      ]
    },
    {
      "cell_type": "markdown",
      "source": [],
      "metadata": {
        "id": "QjyUyS0scB79"
      }
    },
    {
      "cell_type": "markdown",
      "source": [
        "## Author\n",
        "César Toro"
      ],
      "metadata": {
        "id": "SJ7ZTqaBRrW4"
      }
    }
  ]
}